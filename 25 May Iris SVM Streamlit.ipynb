{
 "cells": [
  {
   "cell_type": "code",
   "execution_count": 1,
   "id": "80019dcb",
   "metadata": {},
   "outputs": [],
   "source": [
    "import pandas as pd\n",
    "table=pd.read_html('https://en.wikipedia.org/wiki/Iris_flower_data_set')"
   ]
  },
  {
   "cell_type": "code",
   "execution_count": 4,
   "id": "f8f8ba83",
   "metadata": {},
   "outputs": [],
   "source": [
    "df=table[0]"
   ]
  },
  {
   "cell_type": "code",
   "execution_count": 8,
   "id": "60344c94",
   "metadata": {},
   "outputs": [
    {
     "data": {
      "text/html": [
       "<div>\n",
       "<style scoped>\n",
       "    .dataframe tbody tr th:only-of-type {\n",
       "        vertical-align: middle;\n",
       "    }\n",
       "\n",
       "    .dataframe tbody tr th {\n",
       "        vertical-align: top;\n",
       "    }\n",
       "\n",
       "    .dataframe thead th {\n",
       "        text-align: right;\n",
       "    }\n",
       "</style>\n",
       "<table border=\"1\" class=\"dataframe\">\n",
       "  <thead>\n",
       "    <tr style=\"text-align: right;\">\n",
       "      <th></th>\n",
       "      <th>Dataset order</th>\n",
       "      <th>Sepal length</th>\n",
       "      <th>Sepal width</th>\n",
       "      <th>Petal length</th>\n",
       "      <th>Petal width</th>\n",
       "      <th>Species</th>\n",
       "    </tr>\n",
       "  </thead>\n",
       "  <tbody>\n",
       "    <tr>\n",
       "      <th>0</th>\n",
       "      <td>1</td>\n",
       "      <td>5.1</td>\n",
       "      <td>3.5</td>\n",
       "      <td>1.4</td>\n",
       "      <td>0.2</td>\n",
       "      <td>I. setosa</td>\n",
       "    </tr>\n",
       "    <tr>\n",
       "      <th>1</th>\n",
       "      <td>2</td>\n",
       "      <td>4.9</td>\n",
       "      <td>3.0</td>\n",
       "      <td>1.4</td>\n",
       "      <td>0.2</td>\n",
       "      <td>I. setosa</td>\n",
       "    </tr>\n",
       "    <tr>\n",
       "      <th>2</th>\n",
       "      <td>3</td>\n",
       "      <td>4.7</td>\n",
       "      <td>3.2</td>\n",
       "      <td>1.3</td>\n",
       "      <td>0.2</td>\n",
       "      <td>I. setosa</td>\n",
       "    </tr>\n",
       "    <tr>\n",
       "      <th>3</th>\n",
       "      <td>4</td>\n",
       "      <td>4.6</td>\n",
       "      <td>3.1</td>\n",
       "      <td>1.5</td>\n",
       "      <td>0.2</td>\n",
       "      <td>I. setosa</td>\n",
       "    </tr>\n",
       "    <tr>\n",
       "      <th>4</th>\n",
       "      <td>5</td>\n",
       "      <td>5.0</td>\n",
       "      <td>3.6</td>\n",
       "      <td>1.4</td>\n",
       "      <td>0.3</td>\n",
       "      <td>I. setosa</td>\n",
       "    </tr>\n",
       "  </tbody>\n",
       "</table>\n",
       "</div>"
      ],
      "text/plain": [
       "   Dataset order  Sepal length  Sepal width  Petal length  Petal width  \\\n",
       "0              1           5.1          3.5           1.4          0.2   \n",
       "1              2           4.9          3.0           1.4          0.2   \n",
       "2              3           4.7          3.2           1.3          0.2   \n",
       "3              4           4.6          3.1           1.5          0.2   \n",
       "4              5           5.0          3.6           1.4          0.3   \n",
       "\n",
       "     Species  \n",
       "0  I. setosa  \n",
       "1  I. setosa  \n",
       "2  I. setosa  \n",
       "3  I. setosa  \n",
       "4  I. setosa  "
      ]
     },
     "execution_count": 8,
     "metadata": {},
     "output_type": "execute_result"
    }
   ],
   "source": [
    "df.head()"
   ]
  },
  {
   "cell_type": "code",
   "execution_count": 10,
   "id": "9d21ca46",
   "metadata": {},
   "outputs": [],
   "source": [
    "X=df.iloc[:,1:5]\n",
    "y=df.iloc[:,5]"
   ]
  },
  {
   "cell_type": "code",
   "execution_count": 35,
   "id": "160d82c1",
   "metadata": {},
   "outputs": [
    {
     "data": {
      "text/plain": [
       "'setosa'"
      ]
     },
     "execution_count": 35,
     "metadata": {},
     "output_type": "execute_result"
    }
   ],
   "source": [
    "df['Species'][0][3:]"
   ]
  },
  {
   "cell_type": "code",
   "execution_count": 7,
   "id": "721ff646",
   "metadata": {},
   "outputs": [],
   "source": [
    "from sklearn.model_selection import train_test_split"
   ]
  },
  {
   "cell_type": "code",
   "execution_count": 11,
   "id": "4fb664b2",
   "metadata": {},
   "outputs": [],
   "source": [
    "X_train,X_test,y_train,y_test=train_test_split(X,y,random_state=13,test_size=0.2)"
   ]
  },
  {
   "cell_type": "code",
   "execution_count": 12,
   "id": "03378f8d",
   "metadata": {},
   "outputs": [
    {
     "data": {
      "text/plain": [
       "(120, 4)"
      ]
     },
     "execution_count": 12,
     "metadata": {},
     "output_type": "execute_result"
    }
   ],
   "source": [
    "X_train.shape"
   ]
  },
  {
   "cell_type": "code",
   "execution_count": 13,
   "id": "2d1b6f95",
   "metadata": {},
   "outputs": [
    {
     "data": {
      "text/plain": [
       "SVC(kernel='linear')"
      ]
     },
     "execution_count": 13,
     "metadata": {},
     "output_type": "execute_result"
    }
   ],
   "source": [
    "from sklearn.svm import SVC\n",
    "clf=SVC(kernel='linear')\n",
    "clf.fit(X_train,y_train)"
   ]
  },
  {
   "cell_type": "code",
   "execution_count": 14,
   "id": "8579b0c5",
   "metadata": {},
   "outputs": [
    {
     "data": {
      "text/plain": [
       "array(['I.\\xa0versicolor', 'I.\\xa0versicolor', 'I.\\xa0setosa',\n",
       "       'I.\\xa0virginica', 'I.\\xa0virginica', 'I.\\xa0setosa',\n",
       "       'I.\\xa0virginica', 'I.\\xa0virginica', 'I.\\xa0setosa',\n",
       "       'I.\\xa0versicolor', 'I.\\xa0virginica', 'I.\\xa0virginica',\n",
       "       'I.\\xa0versicolor', 'I.\\xa0setosa', 'I.\\xa0virginica',\n",
       "       'I.\\xa0setosa', 'I.\\xa0virginica', 'I.\\xa0virginica',\n",
       "       'I.\\xa0versicolor', 'I.\\xa0setosa', 'I.\\xa0versicolor',\n",
       "       'I.\\xa0setosa', 'I.\\xa0setosa', 'I.\\xa0virginica',\n",
       "       'I.\\xa0versicolor', 'I.\\xa0virginica', 'I.\\xa0setosa',\n",
       "       'I.\\xa0virginica', 'I.\\xa0versicolor', 'I.\\xa0virginica'],\n",
       "      dtype=object)"
      ]
     },
     "execution_count": 14,
     "metadata": {},
     "output_type": "execute_result"
    }
   ],
   "source": [
    "y_pred=clf.predict(X_test)\n",
    "y_pred"
   ]
  },
  {
   "cell_type": "code",
   "execution_count": 16,
   "id": "ad692ed1",
   "metadata": {},
   "outputs": [
    {
     "data": {
      "text/plain": [
       "1.0"
      ]
     },
     "execution_count": 16,
     "metadata": {},
     "output_type": "execute_result"
    }
   ],
   "source": [
    "from sklearn.metrics import accuracy_score\n",
    "accuracy_score(y_test,y_pred)"
   ]
  },
  {
   "cell_type": "code",
   "execution_count": 45,
   "id": "3a8c354f",
   "metadata": {},
   "outputs": [
    {
     "data": {
      "text/plain": [
       "'setosa'"
      ]
     },
     "execution_count": 45,
     "metadata": {},
     "output_type": "execute_result"
    }
   ],
   "source": [
    "clf.predict([[4.7,3.2,1.3,0.2]])[0][3:]"
   ]
  },
  {
   "cell_type": "code",
   "execution_count": 44,
   "id": "a6037008",
   "metadata": {},
   "outputs": [
    {
     "data": {
      "text/plain": [
       "'setosa'"
      ]
     },
     "execution_count": 44,
     "metadata": {},
     "output_type": "execute_result"
    }
   ],
   "source": [
    "clf.predict([[4.7,3.2,1.3,0.2]])[0][3:]"
   ]
  },
  {
   "cell_type": "code",
   "execution_count": 51,
   "id": "d95b98ca",
   "metadata": {},
   "outputs": [
    {
     "name": "stdout",
     "output_type": "stream",
     "text": [
      "Overwriting iris.py\n"
     ]
    }
   ],
   "source": [
    "%%writefile iris.py\n",
    "import pandas as pd\n",
    "import streamlit as st\n",
    "table=pd.read_html('https://en.wikipedia.org/wiki/Iris_flower_data_set')\n",
    "df=table[0]\n",
    "X=df.iloc[:,1:5]\n",
    "y=df.iloc[:,5]\n",
    "from sklearn.svm import SVC\n",
    "clf=SVC(kernel='linear')\n",
    "clf.fit(X,y)\n",
    "Sepal_length=st.slider('Sepal_length',0.1,8.0)\n",
    "Sepal_width=st.slider('Sepal_width',0.1,5.0)\n",
    "Petal_length=st.slider('Petal_length',0.1,8.0)\n",
    "Petal_width=st.slider('Petal_width',0.1,5.0)\n",
    "\n",
    "if st.button(\"PREDICT\"):\n",
    "    y_pred=clf.predict([[Sepal_length,Sepal_width,Petal_length,Petal_width]])[0][3:]\n",
    "    st.title(y_pred)\n",
    "    \n",
    "\n"
   ]
  },
  {
   "cell_type": "code",
   "execution_count": 52,
   "id": "151f7ad1",
   "metadata": {},
   "outputs": [
    {
     "name": "stdout",
     "output_type": "stream",
     "text": [
      "^C\n"
     ]
    }
   ],
   "source": [
    "!streamlit run iris.py"
   ]
  },
  {
   "cell_type": "code",
   "execution_count": null,
   "id": "238a9180",
   "metadata": {},
   "outputs": [],
   "source": []
  }
 ],
 "metadata": {
  "kernelspec": {
   "display_name": "Python 3",
   "language": "python",
   "name": "python3"
  },
  "language_info": {
   "codemirror_mode": {
    "name": "ipython",
    "version": 3
   },
   "file_extension": ".py",
   "mimetype": "text/x-python",
   "name": "python",
   "nbconvert_exporter": "python",
   "pygments_lexer": "ipython3",
   "version": "3.8.8"
  }
 },
 "nbformat": 4,
 "nbformat_minor": 5
}
