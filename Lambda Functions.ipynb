{
 "cells": [
  {
   "cell_type": "code",
   "execution_count": 1,
   "id": "7fcd7e05",
   "metadata": {},
   "outputs": [],
   "source": [
    "def myfun(x,y):\n",
    "    print(x,y)"
   ]
  },
  {
   "cell_type": "code",
   "execution_count": 2,
   "id": "5f48cde0",
   "metadata": {},
   "outputs": [
    {
     "name": "stdout",
     "output_type": "stream",
     "text": [
      "Hi Hello\n",
      "3 Hello\n",
      "Yo 6\n",
      "Heyy Hello\n"
     ]
    }
   ],
   "source": [
    "myfun(\"Hi\",\"Hello\")\n",
    "myfun(3,\"Hello\")\n",
    "myfun(\"Yo\",6)\n",
    "myfun(\"Heyy\",\"Hello\")"
   ]
  },
  {
   "cell_type": "code",
   "execution_count": 6,
   "id": "5121345d",
   "metadata": {},
   "outputs": [],
   "source": [
    "a=lambda x:x**2"
   ]
  },
  {
   "cell_type": "code",
   "execution_count": 3,
   "id": "9fe69ad8",
   "metadata": {},
   "outputs": [],
   "source": [
    "def squaring(x):\n",
    "    b=x**2\n",
    "    print(b)"
   ]
  },
  {
   "cell_type": "code",
   "execution_count": 5,
   "id": "e61838bd",
   "metadata": {},
   "outputs": [
    {
     "name": "stdout",
     "output_type": "stream",
     "text": [
      "81\n"
     ]
    }
   ],
   "source": [
    "squaring(9)"
   ]
  },
  {
   "cell_type": "code",
   "execution_count": 7,
   "id": "3f0fe817",
   "metadata": {},
   "outputs": [
    {
     "data": {
      "text/plain": [
       "81"
      ]
     },
     "execution_count": 7,
     "metadata": {},
     "output_type": "execute_result"
    }
   ],
   "source": [
    "a(9)"
   ]
  },
  {
   "cell_type": "code",
   "execution_count": 8,
   "id": "59f12de4",
   "metadata": {},
   "outputs": [
    {
     "data": {
      "text/plain": [
       "16"
      ]
     },
     "execution_count": 8,
     "metadata": {},
     "output_type": "execute_result"
    }
   ],
   "source": [
    "a(4)"
   ]
  },
  {
   "cell_type": "code",
   "execution_count": 9,
   "id": "b7ff2b88",
   "metadata": {},
   "outputs": [
    {
     "data": {
      "text/plain": [
       "81"
      ]
     },
     "execution_count": 9,
     "metadata": {},
     "output_type": "execute_result"
    }
   ],
   "source": [
    "(lambda x:x**2)(9)"
   ]
  },
  {
   "cell_type": "code",
   "execution_count": 10,
   "id": "e1f127d7",
   "metadata": {},
   "outputs": [],
   "source": [
    "b=lambda x,y:x+y"
   ]
  },
  {
   "cell_type": "code",
   "execution_count": 11,
   "id": "94bc848a",
   "metadata": {},
   "outputs": [
    {
     "data": {
      "text/plain": [
       "9"
      ]
     },
     "execution_count": 11,
     "metadata": {},
     "output_type": "execute_result"
    }
   ],
   "source": [
    "b(4,5)"
   ]
  },
  {
   "cell_type": "code",
   "execution_count": 10,
   "id": "2e90faca",
   "metadata": {},
   "outputs": [
    {
     "data": {
      "text/plain": [
       "9"
      ]
     },
     "execution_count": 10,
     "metadata": {},
     "output_type": "execute_result"
    }
   ],
   "source": [
    "(lambda x,y:x+y)(4,5)"
   ]
  },
  {
   "cell_type": "code",
   "execution_count": 18,
   "id": "3454fbb0",
   "metadata": {},
   "outputs": [],
   "source": [
    "c=lambda x:x[0]=='a'"
   ]
  },
  {
   "cell_type": "code",
   "execution_count": 19,
   "id": "3ae5f4c8",
   "metadata": {},
   "outputs": [
    {
     "data": {
      "text/plain": [
       "True"
      ]
     },
     "execution_count": 19,
     "metadata": {},
     "output_type": "execute_result"
    }
   ],
   "source": [
    "c('apple')"
   ]
  },
  {
   "cell_type": "code",
   "execution_count": 20,
   "id": "68220e4a",
   "metadata": {},
   "outputs": [
    {
     "data": {
      "text/plain": [
       "False"
      ]
     },
     "execution_count": 20,
     "metadata": {},
     "output_type": "execute_result"
    }
   ],
   "source": [
    "c('banana')"
   ]
  },
  {
   "cell_type": "code",
   "execution_count": 11,
   "id": "f940accd",
   "metadata": {},
   "outputs": [
    {
     "data": {
      "text/plain": [
       "81"
      ]
     },
     "execution_count": 11,
     "metadata": {},
     "output_type": "execute_result"
    }
   ],
   "source": [
    "(lambda x:x**2)(9)"
   ]
  },
  {
   "cell_type": "code",
   "execution_count": 15,
   "id": "36bdc52a",
   "metadata": {},
   "outputs": [
    {
     "data": {
      "text/plain": [
       "[49, 64, 81]"
      ]
     },
     "execution_count": 15,
     "metadata": {},
     "output_type": "execute_result"
    }
   ],
   "source": [
    "list(map(lambda x:x**2,[7,8,9]))"
   ]
  },
  {
   "cell_type": "code",
   "execution_count": 16,
   "id": "54777700",
   "metadata": {},
   "outputs": [
    {
     "data": {
      "text/plain": [
       "[49, 64, 81]"
      ]
     },
     "execution_count": 16,
     "metadata": {},
     "output_type": "execute_result"
    }
   ],
   "source": [
    "L=[7,8,9]\n",
    "list(map(lambda x:x**2,L))"
   ]
  },
  {
   "cell_type": "code",
   "execution_count": 20,
   "id": "889a19f3",
   "metadata": {},
   "outputs": [
    {
     "data": {
      "text/plain": [
       "[7, 8, 9]"
      ]
     },
     "execution_count": 20,
     "metadata": {},
     "output_type": "execute_result"
    }
   ],
   "source": [
    "list(filter(lambda x:x**2,L))"
   ]
  },
  {
   "cell_type": "code",
   "execution_count": 17,
   "id": "25d248cd",
   "metadata": {},
   "outputs": [],
   "source": [
    "L1=[1,2,3,4,5,6,7,8]"
   ]
  },
  {
   "cell_type": "code",
   "execution_count": 18,
   "id": "1939ab38",
   "metadata": {},
   "outputs": [
    {
     "data": {
      "text/plain": [
       "[False, True, False, True, False, True, False, True]"
      ]
     },
     "execution_count": 18,
     "metadata": {},
     "output_type": "execute_result"
    }
   ],
   "source": [
    "list(map(lambda x:x%2==0,L1))"
   ]
  },
  {
   "cell_type": "code",
   "execution_count": 19,
   "id": "8d5d7859",
   "metadata": {},
   "outputs": [
    {
     "data": {
      "text/plain": [
       "[2, 4, 6, 8]"
      ]
     },
     "execution_count": 19,
     "metadata": {},
     "output_type": "execute_result"
    }
   ],
   "source": [
    "list(filter(lambda x:x%2==0,L1))"
   ]
  },
  {
   "cell_type": "code",
   "execution_count": 21,
   "id": "3d52a536",
   "metadata": {},
   "outputs": [],
   "source": [
    "student=[{'name':'Jacob','father_name':'Robert','Age':25},\n",
    "         {'name':'Angela','father_name':'Ros','Age':24},\n",
    "         {'name':'Ricky','father_name':'William','Age':26}]"
   ]
  },
  {
   "cell_type": "code",
   "execution_count": 22,
   "id": "e83fb14a",
   "metadata": {},
   "outputs": [
    {
     "data": {
      "text/plain": [
       "['Jacob', 'Angela', 'Ricky']"
      ]
     },
     "execution_count": 22,
     "metadata": {},
     "output_type": "execute_result"
    }
   ],
   "source": [
    "list(map(lambda x:x['name'],student))"
   ]
  },
  {
   "cell_type": "code",
   "execution_count": 23,
   "id": "6b222475",
   "metadata": {},
   "outputs": [
    {
     "data": {
      "text/plain": [
       "[{'name': 'Jacob', 'father_name': 'Robert', 'Age': 25},\n",
       " {'name': 'Angela', 'father_name': 'Ros', 'Age': 24},\n",
       " {'name': 'Ricky', 'father_name': 'William', 'Age': 26}]"
      ]
     },
     "execution_count": 23,
     "metadata": {},
     "output_type": "execute_result"
    }
   ],
   "source": [
    "list(filter(lambda x:x['name'],student))"
   ]
  },
  {
   "cell_type": "code",
   "execution_count": 24,
   "id": "260ecec0",
   "metadata": {},
   "outputs": [
    {
     "data": {
      "text/plain": [
       "[True, False, False]"
      ]
     },
     "execution_count": 24,
     "metadata": {},
     "output_type": "execute_result"
    }
   ],
   "source": [
    "list(map(lambda x:x['name']=='Jacob',student))"
   ]
  },
  {
   "cell_type": "code",
   "execution_count": 25,
   "id": "ffdfc52e",
   "metadata": {},
   "outputs": [
    {
     "data": {
      "text/plain": [
       "[{'name': 'Jacob', 'father_name': 'Robert', 'Age': 25}]"
      ]
     },
     "execution_count": 25,
     "metadata": {},
     "output_type": "execute_result"
    }
   ],
   "source": [
    "list(filter(lambda x:x['name']=='Jacob',student))"
   ]
  },
  {
   "cell_type": "code",
   "execution_count": null,
   "id": "743a2c14",
   "metadata": {},
   "outputs": [],
   "source": [
    "#reduce"
   ]
  }
 ],
 "metadata": {
  "kernelspec": {
   "display_name": "Python 3",
   "language": "python",
   "name": "python3"
  },
  "language_info": {
   "codemirror_mode": {
    "name": "ipython",
    "version": 3
   },
   "file_extension": ".py",
   "mimetype": "text/x-python",
   "name": "python",
   "nbconvert_exporter": "python",
   "pygments_lexer": "ipython3",
   "version": "3.8.8"
  }
 },
 "nbformat": 4,
 "nbformat_minor": 5
}
