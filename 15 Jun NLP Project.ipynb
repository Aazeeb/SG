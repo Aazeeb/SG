{
 "cells": [
  {
   "cell_type": "code",
   "execution_count": 1,
   "id": "44d91c04",
   "metadata": {},
   "outputs": [],
   "source": [
    "#Predicting E-Commerce Product Recommendation Ratings from Reviews"
   ]
  },
  {
   "cell_type": "code",
   "execution_count": 2,
   "id": "924c2ad9",
   "metadata": {},
   "outputs": [],
   "source": [
    "import pandas as pd\n",
    "import numpy as np\n",
    "\n",
    "from sklearn.metrics import confusion_matrix, classification_report"
   ]
  },
  {
   "cell_type": "code",
   "execution_count": 21,
   "id": "e9c8dafa",
   "metadata": {},
   "outputs": [
    {
     "data": {
      "text/html": [
       "<div>\n",
       "<style scoped>\n",
       "    .dataframe tbody tr th:only-of-type {\n",
       "        vertical-align: middle;\n",
       "    }\n",
       "\n",
       "    .dataframe tbody tr th {\n",
       "        vertical-align: top;\n",
       "    }\n",
       "\n",
       "    .dataframe thead th {\n",
       "        text-align: right;\n",
       "    }\n",
       "</style>\n",
       "<table border=\"1\" class=\"dataframe\">\n",
       "  <thead>\n",
       "    <tr style=\"text-align: right;\">\n",
       "      <th></th>\n",
       "      <th>Unnamed: 0</th>\n",
       "      <th>Clothing ID</th>\n",
       "      <th>Age</th>\n",
       "      <th>Title</th>\n",
       "      <th>Review Text</th>\n",
       "      <th>Rating</th>\n",
       "      <th>Recommended IND</th>\n",
       "      <th>Positive Feedback Count</th>\n",
       "      <th>Division Name</th>\n",
       "      <th>Department Name</th>\n",
       "      <th>Class Name</th>\n",
       "    </tr>\n",
       "  </thead>\n",
       "  <tbody>\n",
       "    <tr>\n",
       "      <th>0</th>\n",
       "      <td>0</td>\n",
       "      <td>767</td>\n",
       "      <td>33</td>\n",
       "      <td></td>\n",
       "      <td>Absolutely wonderful - silky and sexy and comf...</td>\n",
       "      <td>4</td>\n",
       "      <td>1</td>\n",
       "      <td>0</td>\n",
       "      <td>Initmates</td>\n",
       "      <td>Intimate</td>\n",
       "      <td>Intimates</td>\n",
       "    </tr>\n",
       "    <tr>\n",
       "      <th>1</th>\n",
       "      <td>1</td>\n",
       "      <td>1080</td>\n",
       "      <td>34</td>\n",
       "      <td></td>\n",
       "      <td>Love this dress!  it's sooo pretty.  i happene...</td>\n",
       "      <td>5</td>\n",
       "      <td>1</td>\n",
       "      <td>4</td>\n",
       "      <td>General</td>\n",
       "      <td>Dresses</td>\n",
       "      <td>Dresses</td>\n",
       "    </tr>\n",
       "    <tr>\n",
       "      <th>2</th>\n",
       "      <td>2</td>\n",
       "      <td>1077</td>\n",
       "      <td>60</td>\n",
       "      <td>Some major design flaws</td>\n",
       "      <td>I had such high hopes for this dress and reall...</td>\n",
       "      <td>3</td>\n",
       "      <td>0</td>\n",
       "      <td>0</td>\n",
       "      <td>General</td>\n",
       "      <td>Dresses</td>\n",
       "      <td>Dresses</td>\n",
       "    </tr>\n",
       "    <tr>\n",
       "      <th>3</th>\n",
       "      <td>3</td>\n",
       "      <td>1049</td>\n",
       "      <td>50</td>\n",
       "      <td>My favorite buy!</td>\n",
       "      <td>I love, love, love this jumpsuit. it's fun, fl...</td>\n",
       "      <td>5</td>\n",
       "      <td>1</td>\n",
       "      <td>0</td>\n",
       "      <td>General Petite</td>\n",
       "      <td>Bottoms</td>\n",
       "      <td>Pants</td>\n",
       "    </tr>\n",
       "    <tr>\n",
       "      <th>4</th>\n",
       "      <td>4</td>\n",
       "      <td>847</td>\n",
       "      <td>47</td>\n",
       "      <td>Flattering shirt</td>\n",
       "      <td>This shirt is very flattering to all due to th...</td>\n",
       "      <td>5</td>\n",
       "      <td>1</td>\n",
       "      <td>6</td>\n",
       "      <td>General</td>\n",
       "      <td>Tops</td>\n",
       "      <td>Blouses</td>\n",
       "    </tr>\n",
       "    <tr>\n",
       "      <th>...</th>\n",
       "      <td>...</td>\n",
       "      <td>...</td>\n",
       "      <td>...</td>\n",
       "      <td>...</td>\n",
       "      <td>...</td>\n",
       "      <td>...</td>\n",
       "      <td>...</td>\n",
       "      <td>...</td>\n",
       "      <td>...</td>\n",
       "      <td>...</td>\n",
       "      <td>...</td>\n",
       "    </tr>\n",
       "    <tr>\n",
       "      <th>23481</th>\n",
       "      <td>23481</td>\n",
       "      <td>1104</td>\n",
       "      <td>34</td>\n",
       "      <td>Great dress for many occasions</td>\n",
       "      <td>I was very happy to snag this dress at such a ...</td>\n",
       "      <td>5</td>\n",
       "      <td>1</td>\n",
       "      <td>0</td>\n",
       "      <td>General Petite</td>\n",
       "      <td>Dresses</td>\n",
       "      <td>Dresses</td>\n",
       "    </tr>\n",
       "    <tr>\n",
       "      <th>23482</th>\n",
       "      <td>23482</td>\n",
       "      <td>862</td>\n",
       "      <td>48</td>\n",
       "      <td>Wish it was made of cotton</td>\n",
       "      <td>It reminds me of maternity clothes. soft, stre...</td>\n",
       "      <td>3</td>\n",
       "      <td>1</td>\n",
       "      <td>0</td>\n",
       "      <td>General Petite</td>\n",
       "      <td>Tops</td>\n",
       "      <td>Knits</td>\n",
       "    </tr>\n",
       "    <tr>\n",
       "      <th>23483</th>\n",
       "      <td>23483</td>\n",
       "      <td>1104</td>\n",
       "      <td>31</td>\n",
       "      <td>Cute, but see through</td>\n",
       "      <td>This fit well, but the top was very see throug...</td>\n",
       "      <td>3</td>\n",
       "      <td>0</td>\n",
       "      <td>1</td>\n",
       "      <td>General Petite</td>\n",
       "      <td>Dresses</td>\n",
       "      <td>Dresses</td>\n",
       "    </tr>\n",
       "    <tr>\n",
       "      <th>23484</th>\n",
       "      <td>23484</td>\n",
       "      <td>1084</td>\n",
       "      <td>28</td>\n",
       "      <td>Very cute dress, perfect for summer parties an...</td>\n",
       "      <td>I bought this dress for a wedding i have this ...</td>\n",
       "      <td>3</td>\n",
       "      <td>1</td>\n",
       "      <td>2</td>\n",
       "      <td>General</td>\n",
       "      <td>Dresses</td>\n",
       "      <td>Dresses</td>\n",
       "    </tr>\n",
       "    <tr>\n",
       "      <th>23485</th>\n",
       "      <td>23485</td>\n",
       "      <td>1104</td>\n",
       "      <td>52</td>\n",
       "      <td>Please make more like this one!</td>\n",
       "      <td>This dress in a lovely platinum is feminine an...</td>\n",
       "      <td>5</td>\n",
       "      <td>1</td>\n",
       "      <td>22</td>\n",
       "      <td>General Petite</td>\n",
       "      <td>Dresses</td>\n",
       "      <td>Dresses</td>\n",
       "    </tr>\n",
       "  </tbody>\n",
       "</table>\n",
       "<p>23486 rows × 11 columns</p>\n",
       "</div>"
      ],
      "text/plain": [
       "       Unnamed: 0  Clothing ID  Age  \\\n",
       "0               0          767   33   \n",
       "1               1         1080   34   \n",
       "2               2         1077   60   \n",
       "3               3         1049   50   \n",
       "4               4          847   47   \n",
       "...           ...          ...  ...   \n",
       "23481       23481         1104   34   \n",
       "23482       23482          862   48   \n",
       "23483       23483         1104   31   \n",
       "23484       23484         1084   28   \n",
       "23485       23485         1104   52   \n",
       "\n",
       "                                                   Title  \\\n",
       "0                                                          \n",
       "1                                                          \n",
       "2                                Some major design flaws   \n",
       "3                                       My favorite buy!   \n",
       "4                                       Flattering shirt   \n",
       "...                                                  ...   \n",
       "23481                     Great dress for many occasions   \n",
       "23482                         Wish it was made of cotton   \n",
       "23483                              Cute, but see through   \n",
       "23484  Very cute dress, perfect for summer parties an...   \n",
       "23485                    Please make more like this one!   \n",
       "\n",
       "                                             Review Text  Rating  \\\n",
       "0      Absolutely wonderful - silky and sexy and comf...       4   \n",
       "1      Love this dress!  it's sooo pretty.  i happene...       5   \n",
       "2      I had such high hopes for this dress and reall...       3   \n",
       "3      I love, love, love this jumpsuit. it's fun, fl...       5   \n",
       "4      This shirt is very flattering to all due to th...       5   \n",
       "...                                                  ...     ...   \n",
       "23481  I was very happy to snag this dress at such a ...       5   \n",
       "23482  It reminds me of maternity clothes. soft, stre...       3   \n",
       "23483  This fit well, but the top was very see throug...       3   \n",
       "23484  I bought this dress for a wedding i have this ...       3   \n",
       "23485  This dress in a lovely platinum is feminine an...       5   \n",
       "\n",
       "       Recommended IND  Positive Feedback Count   Division Name  \\\n",
       "0                    1                        0       Initmates   \n",
       "1                    1                        4         General   \n",
       "2                    0                        0         General   \n",
       "3                    1                        0  General Petite   \n",
       "4                    1                        6         General   \n",
       "...                ...                      ...             ...   \n",
       "23481                1                        0  General Petite   \n",
       "23482                1                        0  General Petite   \n",
       "23483                0                        1  General Petite   \n",
       "23484                1                        2         General   \n",
       "23485                1                       22  General Petite   \n",
       "\n",
       "      Department Name Class Name  \n",
       "0            Intimate  Intimates  \n",
       "1             Dresses    Dresses  \n",
       "2             Dresses    Dresses  \n",
       "3             Bottoms      Pants  \n",
       "4                Tops    Blouses  \n",
       "...               ...        ...  \n",
       "23481         Dresses    Dresses  \n",
       "23482            Tops      Knits  \n",
       "23483         Dresses    Dresses  \n",
       "23484         Dresses    Dresses  \n",
       "23485         Dresses    Dresses  \n",
       "\n",
       "[23486 rows x 11 columns]"
      ]
     },
     "execution_count": 21,
     "metadata": {},
     "output_type": "execute_result"
    }
   ],
   "source": [
    "df=pd.read_csv('Womens Clothing E-Commerce Reviews.csv',keep_default_na=False)\n",
    "df"
   ]
  },
  {
   "cell_type": "code",
   "execution_count": 22,
   "id": "23dfda98",
   "metadata": {},
   "outputs": [],
   "source": [
    "#Basic Data PreProcessing"
   ]
  },
  {
   "cell_type": "code",
   "execution_count": 23,
   "id": "3bcc1720",
   "metadata": {},
   "outputs": [
    {
     "data": {
      "text/html": [
       "<div>\n",
       "<style scoped>\n",
       "    .dataframe tbody tr th:only-of-type {\n",
       "        vertical-align: middle;\n",
       "    }\n",
       "\n",
       "    .dataframe tbody tr th {\n",
       "        vertical-align: top;\n",
       "    }\n",
       "\n",
       "    .dataframe thead th {\n",
       "        text-align: right;\n",
       "    }\n",
       "</style>\n",
       "<table border=\"1\" class=\"dataframe\">\n",
       "  <thead>\n",
       "    <tr style=\"text-align: right;\">\n",
       "      <th></th>\n",
       "      <th>Review</th>\n",
       "      <th>Rating</th>\n",
       "    </tr>\n",
       "  </thead>\n",
       "  <tbody>\n",
       "    <tr>\n",
       "      <th>0</th>\n",
       "      <td>Absolutely wonderful - silky and sexy and comf...</td>\n",
       "      <td>1</td>\n",
       "    </tr>\n",
       "    <tr>\n",
       "      <th>1</th>\n",
       "      <td>Love this dress!  it's sooo pretty.  i happene...</td>\n",
       "      <td>1</td>\n",
       "    </tr>\n",
       "    <tr>\n",
       "      <th>2</th>\n",
       "      <td>Some major design flaws I had such high hopes ...</td>\n",
       "      <td>0</td>\n",
       "    </tr>\n",
       "    <tr>\n",
       "      <th>3</th>\n",
       "      <td>My favorite buy! I love, love, love this jumps...</td>\n",
       "      <td>1</td>\n",
       "    </tr>\n",
       "    <tr>\n",
       "      <th>4</th>\n",
       "      <td>Flattering shirt This shirt is very flattering...</td>\n",
       "      <td>1</td>\n",
       "    </tr>\n",
       "    <tr>\n",
       "      <th>...</th>\n",
       "      <td>...</td>\n",
       "      <td>...</td>\n",
       "    </tr>\n",
       "    <tr>\n",
       "      <th>23481</th>\n",
       "      <td>Great dress for many occasions I was very happ...</td>\n",
       "      <td>1</td>\n",
       "    </tr>\n",
       "    <tr>\n",
       "      <th>23482</th>\n",
       "      <td>Wish it was made of cotton It reminds me of ma...</td>\n",
       "      <td>0</td>\n",
       "    </tr>\n",
       "    <tr>\n",
       "      <th>23483</th>\n",
       "      <td>Cute, but see through This fit well, but the t...</td>\n",
       "      <td>0</td>\n",
       "    </tr>\n",
       "    <tr>\n",
       "      <th>23484</th>\n",
       "      <td>Very cute dress, perfect for summer parties an...</td>\n",
       "      <td>0</td>\n",
       "    </tr>\n",
       "    <tr>\n",
       "      <th>23485</th>\n",
       "      <td>Please make more like this one! This dress in ...</td>\n",
       "      <td>1</td>\n",
       "    </tr>\n",
       "  </tbody>\n",
       "</table>\n",
       "<p>23486 rows × 2 columns</p>\n",
       "</div>"
      ],
      "text/plain": [
       "                                                  Review  Rating\n",
       "0      Absolutely wonderful - silky and sexy and comf...       1\n",
       "1      Love this dress!  it's sooo pretty.  i happene...       1\n",
       "2      Some major design flaws I had such high hopes ...       0\n",
       "3      My favorite buy! I love, love, love this jumps...       1\n",
       "4      Flattering shirt This shirt is very flattering...       1\n",
       "...                                                  ...     ...\n",
       "23481  Great dress for many occasions I was very happ...       1\n",
       "23482  Wish it was made of cotton It reminds me of ma...       0\n",
       "23483  Cute, but see through This fit well, but the t...       0\n",
       "23484  Very cute dress, perfect for summer parties an...       0\n",
       "23485  Please make more like this one! This dress in ...       1\n",
       "\n",
       "[23486 rows x 2 columns]"
      ]
     },
     "execution_count": 23,
     "metadata": {},
     "output_type": "execute_result"
    }
   ],
   "source": [
    "df['Review']=(df['Title'].map(str)+' '+df['Review Text']).apply(lambda row: row.strip())\n",
    "df['Rating']=[1 if rating>3 else 0 for rating in df['Rating']]\n",
    "df=df[['Review','Rating']]\n",
    "df"
   ]
  },
  {
   "cell_type": "code",
   "execution_count": 28,
   "id": "09ea5e2a",
   "metadata": {},
   "outputs": [
    {
     "name": "stdout",
     "output_type": "stream",
     "text": [
      "<class 'pandas.core.frame.DataFrame'>\n",
      "Int64Index: 22642 entries, 0 to 23485\n",
      "Data columns (total 2 columns):\n",
      " #   Column  Non-Null Count  Dtype \n",
      "---  ------  --------------  ----- \n",
      " 0   Review  22642 non-null  object\n",
      " 1   Rating  22642 non-null  int64 \n",
      "dtypes: int64(1), object(1)\n",
      "memory usage: 530.7+ KB\n"
     ]
    }
   ],
   "source": [
    "df=df[df['Review']!='']\n",
    "df.info()"
   ]
  },
  {
   "cell_type": "code",
   "execution_count": 31,
   "id": "b81d56a2",
   "metadata": {},
   "outputs": [
    {
     "data": {
      "text/plain": [
       "1    17449\n",
       "0     5193\n",
       "Name: Rating, dtype: int64"
      ]
     },
     "execution_count": 31,
     "metadata": {},
     "output_type": "execute_result"
    }
   ],
   "source": [
    "df['Rating'].value_counts()"
   ]
  },
  {
   "cell_type": "code",
   "execution_count": 33,
   "id": "6fa1909b",
   "metadata": {},
   "outputs": [
    {
     "data": {
      "text/plain": [
       "((16981, 1), (5661, 1))"
      ]
     },
     "execution_count": 33,
     "metadata": {},
     "output_type": "execute_result"
    }
   ],
   "source": [
    "from sklearn.model_selection import train_test_split\n",
    "X_train,X_test,y_train,y_test=train_test_split(df[['Review']],df['Rating'],random_state=42)\n",
    "X_train.shape, X_test.shape"
   ]
  },
  {
   "cell_type": "code",
   "execution_count": 38,
   "id": "75889074",
   "metadata": {},
   "outputs": [
    {
     "data": {
      "text/plain": [
       "((16981,), (5661,))"
      ]
     },
     "execution_count": 38,
     "metadata": {},
     "output_type": "execute_result"
    }
   ],
   "source": [
    "y_train.shape,y_test.shape"
   ]
  },
  {
   "cell_type": "code",
   "execution_count": 35,
   "id": "d1054ae1",
   "metadata": {},
   "outputs": [
    {
     "data": {
      "text/plain": [
       "(Counter({1: 13059, 0: 3922}), Counter({1: 4390, 0: 1271}))"
      ]
     },
     "execution_count": 35,
     "metadata": {},
     "output_type": "execute_result"
    }
   ],
   "source": [
    "from collections import Counter\n",
    "Counter(y_train),Counter(y_test)"
   ]
  },
  {
   "cell_type": "code",
   "execution_count": 39,
   "id": "a04c2cad",
   "metadata": {},
   "outputs": [
    {
     "data": {
      "text/plain": [
       "1    13059\n",
       "0     3922\n",
       "Name: Rating, dtype: int64"
      ]
     },
     "execution_count": 39,
     "metadata": {},
     "output_type": "execute_result"
    }
   ],
   "source": [
    "y_train.value_counts()"
   ]
  },
  {
   "cell_type": "code",
   "execution_count": 40,
   "id": "47532d7c",
   "metadata": {},
   "outputs": [],
   "source": [
    "#Experiment 1: Basic NLP Count Based Features\n",
    "#WordCount\n",
    "#CharacterCount\n",
    "#Word Density\n",
    "#PunctuationCount\n",
    "#UppercaseCount\n",
    "#TitleWordCount\n",
    "\n",
    "#Ref: https://www.analyticsvidhya.com/blog/2018/04/a-comprehensive-guide-to-understand-and-implement-text-classification-in-python/"
   ]
  },
  {
   "cell_type": "code",
   "execution_count": 68,
   "id": "c0bf0c32",
   "metadata": {},
   "outputs": [],
   "source": [
    "import string\n",
    "\n",
    "X_train['char_count']=X_train['Review'].apply(len)\n",
    "X_train['word_count']=X_train['Review'].apply(lambda x:len(x.split()))\n",
    "X_train['word_density']=X_train['char_count']/(X_train['word_count']+1)\n",
    "X_train['punctuation_count']=X_train['Review'].apply(lambda x: len(\"\".join(_ for _ in x if _ in string.punctuation)))\n",
    "X_train['title_word_count']=X_train['Review'].apply(lambda x: len([wrd for wrd in x.split() if wrd.istitle()]))\n",
    "X_train['upper_case_word_count']=X_train['Review'].apply(lambda x: len([wrd for wrd in x.split() if wrd.isupper()]))\n",
    "\n",
    "X_test['char_count']=X_test['Review'].apply(len)\n",
    "X_test['word_count']=X_test['Review'].apply(lambda x:len(x.split()))\n",
    "X_test['word_density']=X_test['char_count']/(X_test['word_count']+1)\n",
    "X_test['punctuation_count']=X_test['Review'].apply(lambda x: len(\"\".join(_ for _ in x if _ in string.punctuation)))\n",
    "X_test['title_word_count']=X_test['Review'].apply(lambda x: len([wrd for wrd in x.split() if wrd.istitle()]))\n",
    "X_test['upper_case_word_count']=X_test['Review'].apply(lambda x: len([wrd for wrd in x.split() if wrd.isupper()]))"
   ]
  },
  {
   "cell_type": "code",
   "execution_count": 61,
   "id": "4f89809c",
   "metadata": {},
   "outputs": [
    {
     "data": {
      "text/html": [
       "<div>\n",
       "<style scoped>\n",
       "    .dataframe tbody tr th:only-of-type {\n",
       "        vertical-align: middle;\n",
       "    }\n",
       "\n",
       "    .dataframe tbody tr th {\n",
       "        vertical-align: top;\n",
       "    }\n",
       "\n",
       "    .dataframe thead th {\n",
       "        text-align: right;\n",
       "    }\n",
       "</style>\n",
       "<table border=\"1\" class=\"dataframe\">\n",
       "  <thead>\n",
       "    <tr style=\"text-align: right;\">\n",
       "      <th></th>\n",
       "      <th>Review</th>\n",
       "      <th>char_count</th>\n",
       "      <th>word_count</th>\n",
       "      <th>word_density</th>\n",
       "      <th>punctuation_count</th>\n",
       "      <th>title_word_count</th>\n",
       "      <th>upper_case_word_count</th>\n",
       "    </tr>\n",
       "  </thead>\n",
       "  <tbody>\n",
       "    <tr>\n",
       "      <th>12896</th>\n",
       "      <td>Soooo soft! This is a delightfully soft and fl...</td>\n",
       "      <td>268</td>\n",
       "      <td>52</td>\n",
       "      <td>5.056604</td>\n",
       "      <td>8</td>\n",
       "      <td>2</td>\n",
       "      <td>0</td>\n",
       "    </tr>\n",
       "    <tr>\n",
       "      <th>13183</th>\n",
       "      <td>Had my eye on this, but dind't get I finally v...</td>\n",
       "      <td>399</td>\n",
       "      <td>84</td>\n",
       "      <td>4.694118</td>\n",
       "      <td>20</td>\n",
       "      <td>2</td>\n",
       "      <td>1</td>\n",
       "    </tr>\n",
       "    <tr>\n",
       "      <th>1496</th>\n",
       "      <td>I wanted to like this... I wanted to like this...</td>\n",
       "      <td>525</td>\n",
       "      <td>104</td>\n",
       "      <td>5.000000</td>\n",
       "      <td>19</td>\n",
       "      <td>2</td>\n",
       "      <td>2</td>\n",
       "    </tr>\n",
       "    <tr>\n",
       "      <th>5205</th>\n",
       "      <td>Beautiful blouse Bought this for my daughter i...</td>\n",
       "      <td>203</td>\n",
       "      <td>35</td>\n",
       "      <td>5.638889</td>\n",
       "      <td>10</td>\n",
       "      <td>2</td>\n",
       "      <td>0</td>\n",
       "    </tr>\n",
       "    <tr>\n",
       "      <th>13366</th>\n",
       "      <td>Boxy. large. Boxy, unflattering, and large.\\n\\...</td>\n",
       "      <td>295</td>\n",
       "      <td>51</td>\n",
       "      <td>5.673077</td>\n",
       "      <td>22</td>\n",
       "      <td>2</td>\n",
       "      <td>0</td>\n",
       "    </tr>\n",
       "  </tbody>\n",
       "</table>\n",
       "</div>"
      ],
      "text/plain": [
       "                                                  Review  char_count  \\\n",
       "12896  Soooo soft! This is a delightfully soft and fl...         268   \n",
       "13183  Had my eye on this, but dind't get I finally v...         399   \n",
       "1496   I wanted to like this... I wanted to like this...         525   \n",
       "5205   Beautiful blouse Bought this for my daughter i...         203   \n",
       "13366  Boxy. large. Boxy, unflattering, and large.\\n\\...         295   \n",
       "\n",
       "       word_count  word_density  punctuation_count  title_word_count  \\\n",
       "12896          52      5.056604                  8                 2   \n",
       "13183          84      4.694118                 20                 2   \n",
       "1496          104      5.000000                 19                 2   \n",
       "5205           35      5.638889                 10                 2   \n",
       "13366          51      5.673077                 22                 2   \n",
       "\n",
       "       upper_case_word_count  \n",
       "12896                      0  \n",
       "13183                      1  \n",
       "1496                       2  \n",
       "5205                       0  \n",
       "13366                      0  "
      ]
     },
     "execution_count": 61,
     "metadata": {},
     "output_type": "execute_result"
    }
   ],
   "source": [
    "X_train.head()"
   ]
  },
  {
   "cell_type": "code",
   "execution_count": 62,
   "id": "c07b0bfc",
   "metadata": {},
   "outputs": [],
   "source": [
    "#training a logistic regression model\n",
    "from sklearn.linear_model import LogisticRegression\n",
    "lr=LogisticRegression(solver='liblinear',C=1,random_state=42)"
   ]
  },
  {
   "cell_type": "code",
   "execution_count": 66,
   "id": "1d547208",
   "metadata": {},
   "outputs": [
    {
     "data": {
      "text/plain": [
       "LogisticRegression(C=1, random_state=42, solver='liblinear')"
      ]
     },
     "execution_count": 66,
     "metadata": {},
     "output_type": "execute_result"
    }
   ],
   "source": [
    "lr.fit(X_train.drop(['Review'],axis=1),y_train)"
   ]
  },
  {
   "cell_type": "code",
   "execution_count": 70,
   "id": "3abd451f",
   "metadata": {},
   "outputs": [],
   "source": [
    "pred=lr.predict(X_test.drop(['Review'],axis=1))"
   ]
  },
  {
   "cell_type": "code",
   "execution_count": 76,
   "id": "a0f71243",
   "metadata": {},
   "outputs": [
    {
     "name": "stderr",
     "output_type": "stream",
     "text": [
      "C:\\Users\\ameen\\anaconda3\\lib\\site-packages\\sklearn\\metrics\\_classification.py:1245: UndefinedMetricWarning: Precision and F-score are ill-defined and being set to 0.0 in labels with no predicted samples. Use `zero_division` parameter to control this behavior.\n",
      "  _warn_prf(average, modifier, msg_start, len(result))\n",
      "C:\\Users\\ameen\\anaconda3\\lib\\site-packages\\sklearn\\metrics\\_classification.py:1245: UndefinedMetricWarning: Precision and F-score are ill-defined and being set to 0.0 in labels with no predicted samples. Use `zero_division` parameter to control this behavior.\n",
      "  _warn_prf(average, modifier, msg_start, len(result))\n",
      "C:\\Users\\ameen\\anaconda3\\lib\\site-packages\\sklearn\\metrics\\_classification.py:1245: UndefinedMetricWarning: Precision and F-score are ill-defined and being set to 0.0 in labels with no predicted samples. Use `zero_division` parameter to control this behavior.\n",
      "  _warn_prf(average, modifier, msg_start, len(result))\n"
     ]
    }
   ],
   "source": [
    "a=classification_report(y_test,pred)"
   ]
  },
  {
   "cell_type": "code",
   "execution_count": 77,
   "id": "4c539bde",
   "metadata": {},
   "outputs": [
    {
     "name": "stdout",
     "output_type": "stream",
     "text": [
      "              precision    recall  f1-score   support\n",
      "\n",
      "           0       0.00      0.00      0.00      1271\n",
      "           1       0.78      1.00      0.87      4390\n",
      "\n",
      "    accuracy                           0.78      5661\n",
      "   macro avg       0.39      0.50      0.44      5661\n",
      "weighted avg       0.60      0.78      0.68      5661\n",
      "\n"
     ]
    }
   ],
   "source": [
    "print(a)"
   ]
  },
  {
   "cell_type": "code",
   "execution_count": 81,
   "id": "ab019ada",
   "metadata": {},
   "outputs": [
    {
     "data": {
      "text/html": [
       "<div>\n",
       "<style scoped>\n",
       "    .dataframe tbody tr th:only-of-type {\n",
       "        vertical-align: middle;\n",
       "    }\n",
       "\n",
       "    .dataframe tbody tr th {\n",
       "        vertical-align: top;\n",
       "    }\n",
       "\n",
       "    .dataframe thead th {\n",
       "        text-align: right;\n",
       "    }\n",
       "</style>\n",
       "<table border=\"1\" class=\"dataframe\">\n",
       "  <thead>\n",
       "    <tr style=\"text-align: right;\">\n",
       "      <th></th>\n",
       "      <th>0</th>\n",
       "      <th>1</th>\n",
       "    </tr>\n",
       "  </thead>\n",
       "  <tbody>\n",
       "    <tr>\n",
       "      <th>0</th>\n",
       "      <td>0</td>\n",
       "      <td>1271</td>\n",
       "    </tr>\n",
       "    <tr>\n",
       "      <th>1</th>\n",
       "      <td>0</td>\n",
       "      <td>4390</td>\n",
       "    </tr>\n",
       "  </tbody>\n",
       "</table>\n",
       "</div>"
      ],
      "text/plain": [
       "   0     1\n",
       "0  0  1271\n",
       "1  0  4390"
      ]
     },
     "execution_count": 81,
     "metadata": {},
     "output_type": "execute_result"
    }
   ],
   "source": [
    "pd.DataFrame(confusion_matrix(y_test,pred))"
   ]
  },
  {
   "cell_type": "code",
   "execution_count": 82,
   "id": "2106a071",
   "metadata": {},
   "outputs": [],
   "source": [
    "#Precision: Out of all the predictions made by a model for a class, how many are acutally correct\n",
    "#Recall: Out of all test data samples belonging to a class, how many was the model able to predict correctly"
   ]
  },
  {
   "cell_type": "code",
   "execution_count": 83,
   "id": "388d1392",
   "metadata": {},
   "outputs": [],
   "source": [
    "# Subjectivity quantifies the amount of personal opinion and factual information contained in the text. \n",
    "# The higher subjectivity means that the text contains personal opinion rather than factual information"
   ]
  },
  {
   "cell_type": "code",
   "execution_count": 93,
   "id": "834a8fc4",
   "metadata": {},
   "outputs": [
    {
     "data": {
      "text/plain": [
       "Sentiment(polarity=0.7500000000000001, subjectivity=0.9)"
      ]
     },
     "execution_count": 93,
     "metadata": {},
     "output_type": "execute_result"
    }
   ],
   "source": [
    "import textblob\n",
    "textblob.TextBlob('This is an AMAZING pair of Jeans!').sentiment"
   ]
  },
  {
   "cell_type": "code",
   "execution_count": 89,
   "id": "e549013b",
   "metadata": {},
   "outputs": [
    {
     "data": {
      "text/plain": [
       "Sentiment(polarity=-0.8875, subjectivity=0.85)"
      ]
     },
     "execution_count": 89,
     "metadata": {},
     "output_type": "execute_result"
    }
   ],
   "source": [
    "textblob.TextBlob('I really hated this UGLY T-shirt!').sentiment"
   ]
  },
  {
   "cell_type": "code",
   "execution_count": 108,
   "id": "1cf88b98",
   "metadata": {},
   "outputs": [],
   "source": [
    "#Experiment 2: Features from Sentiment Analysis\n",
    "X_train_snt_obj=X_train['Review'].apply(lambda row:textblob.TextBlob(row).sentiment)\n",
    "X_train['Polarity']=[obj.polarity for obj in X_train_snt_obj.values]\n",
    "X_train['Subjectivity']=[obj.subjectivity for obj in X_train_snt_obj.values]\n",
    "\n",
    "X_test_snt_obj=X_test['Review'].apply(lambda row:textblob.TextBlob(row).sentiment)\n",
    "X_test['Polarity']=[obj.polarity for obj in X_test_snt_obj.values]\n",
    "X_test['Subjectivity']=[obj.subjectivity for obj in X_test_snt_obj.values]"
   ]
  },
  {
   "cell_type": "code",
   "execution_count": 107,
   "id": "3900cace",
   "metadata": {},
   "outputs": [
    {
     "data": {
      "text/plain": [
       "Sentiment(polarity=0.17045454545454547, subjectivity=0.49090909090909096)"
      ]
     },
     "execution_count": 107,
     "metadata": {},
     "output_type": "execute_result"
    }
   ],
   "source": [
    "a=X_train_snt_obj.values[0]\n",
    "a"
   ]
  },
  {
   "cell_type": "code",
   "execution_count": 106,
   "id": "06bf168a",
   "metadata": {},
   "outputs": [
    {
     "data": {
      "text/plain": [
       "0.49090909090909096"
      ]
     },
     "execution_count": 106,
     "metadata": {},
     "output_type": "execute_result"
    }
   ],
   "source": [
    "a.subjectivity"
   ]
  },
  {
   "cell_type": "code",
   "execution_count": 109,
   "id": "f44ca647",
   "metadata": {
    "scrolled": true
   },
   "outputs": [
    {
     "data": {
      "text/html": [
       "<div>\n",
       "<style scoped>\n",
       "    .dataframe tbody tr th:only-of-type {\n",
       "        vertical-align: middle;\n",
       "    }\n",
       "\n",
       "    .dataframe tbody tr th {\n",
       "        vertical-align: top;\n",
       "    }\n",
       "\n",
       "    .dataframe thead th {\n",
       "        text-align: right;\n",
       "    }\n",
       "</style>\n",
       "<table border=\"1\" class=\"dataframe\">\n",
       "  <thead>\n",
       "    <tr style=\"text-align: right;\">\n",
       "      <th></th>\n",
       "      <th>Review</th>\n",
       "      <th>char_count</th>\n",
       "      <th>word_count</th>\n",
       "      <th>word_density</th>\n",
       "      <th>punctuation_count</th>\n",
       "      <th>title_word_count</th>\n",
       "      <th>upper_case_word_count</th>\n",
       "      <th>Polarity</th>\n",
       "      <th>Subjectivity</th>\n",
       "    </tr>\n",
       "  </thead>\n",
       "  <tbody>\n",
       "    <tr>\n",
       "      <th>12896</th>\n",
       "      <td>Soooo soft! This is a delightfully soft and fl...</td>\n",
       "      <td>268</td>\n",
       "      <td>52</td>\n",
       "      <td>5.056604</td>\n",
       "      <td>8</td>\n",
       "      <td>2</td>\n",
       "      <td>0</td>\n",
       "      <td>0.170455</td>\n",
       "      <td>0.490909</td>\n",
       "    </tr>\n",
       "    <tr>\n",
       "      <th>13183</th>\n",
       "      <td>Had my eye on this, but dind't get I finally v...</td>\n",
       "      <td>399</td>\n",
       "      <td>84</td>\n",
       "      <td>4.694118</td>\n",
       "      <td>20</td>\n",
       "      <td>2</td>\n",
       "      <td>1</td>\n",
       "      <td>0.101944</td>\n",
       "      <td>0.719537</td>\n",
       "    </tr>\n",
       "    <tr>\n",
       "      <th>1496</th>\n",
       "      <td>I wanted to like this... I wanted to like this...</td>\n",
       "      <td>525</td>\n",
       "      <td>104</td>\n",
       "      <td>5.000000</td>\n",
       "      <td>19</td>\n",
       "      <td>2</td>\n",
       "      <td>2</td>\n",
       "      <td>0.186538</td>\n",
       "      <td>0.458761</td>\n",
       "    </tr>\n",
       "    <tr>\n",
       "      <th>5205</th>\n",
       "      <td>Beautiful blouse Bought this for my daughter i...</td>\n",
       "      <td>203</td>\n",
       "      <td>35</td>\n",
       "      <td>5.638889</td>\n",
       "      <td>10</td>\n",
       "      <td>2</td>\n",
       "      <td>0</td>\n",
       "      <td>0.625000</td>\n",
       "      <td>0.825000</td>\n",
       "    </tr>\n",
       "    <tr>\n",
       "      <th>13366</th>\n",
       "      <td>Boxy. large. Boxy, unflattering, and large.\\n\\...</td>\n",
       "      <td>295</td>\n",
       "      <td>51</td>\n",
       "      <td>5.673077</td>\n",
       "      <td>22</td>\n",
       "      <td>2</td>\n",
       "      <td>0</td>\n",
       "      <td>0.329613</td>\n",
       "      <td>0.510268</td>\n",
       "    </tr>\n",
       "  </tbody>\n",
       "</table>\n",
       "</div>"
      ],
      "text/plain": [
       "                                                  Review  char_count  \\\n",
       "12896  Soooo soft! This is a delightfully soft and fl...         268   \n",
       "13183  Had my eye on this, but dind't get I finally v...         399   \n",
       "1496   I wanted to like this... I wanted to like this...         525   \n",
       "5205   Beautiful blouse Bought this for my daughter i...         203   \n",
       "13366  Boxy. large. Boxy, unflattering, and large.\\n\\...         295   \n",
       "\n",
       "       word_count  word_density  punctuation_count  title_word_count  \\\n",
       "12896          52      5.056604                  8                 2   \n",
       "13183          84      4.694118                 20                 2   \n",
       "1496          104      5.000000                 19                 2   \n",
       "5205           35      5.638889                 10                 2   \n",
       "13366          51      5.673077                 22                 2   \n",
       "\n",
       "       upper_case_word_count  Polarity  Subjectivity  \n",
       "12896                      0  0.170455      0.490909  \n",
       "13183                      1  0.101944      0.719537  \n",
       "1496                       2  0.186538      0.458761  \n",
       "5205                       0  0.625000      0.825000  \n",
       "13366                      0  0.329613      0.510268  "
      ]
     },
     "execution_count": 109,
     "metadata": {},
     "output_type": "execute_result"
    }
   ],
   "source": [
    "X_train.head()"
   ]
  },
  {
   "cell_type": "code",
   "execution_count": 110,
   "id": "127a8417",
   "metadata": {},
   "outputs": [
    {
     "data": {
      "text/html": [
       "<div>\n",
       "<style scoped>\n",
       "    .dataframe tbody tr th:only-of-type {\n",
       "        vertical-align: middle;\n",
       "    }\n",
       "\n",
       "    .dataframe tbody tr th {\n",
       "        vertical-align: top;\n",
       "    }\n",
       "\n",
       "    .dataframe thead th {\n",
       "        text-align: right;\n",
       "    }\n",
       "</style>\n",
       "<table border=\"1\" class=\"dataframe\">\n",
       "  <thead>\n",
       "    <tr style=\"text-align: right;\">\n",
       "      <th></th>\n",
       "      <th>Review</th>\n",
       "      <th>char_count</th>\n",
       "      <th>word_count</th>\n",
       "      <th>word_density</th>\n",
       "      <th>punctuation_count</th>\n",
       "      <th>title_word_count</th>\n",
       "      <th>upper_case_word_count</th>\n",
       "      <th>Polarity</th>\n",
       "      <th>Subjectivity</th>\n",
       "    </tr>\n",
       "  </thead>\n",
       "  <tbody>\n",
       "    <tr>\n",
       "      <th>19566</th>\n",
       "      <td>Overall great dress, runs small This dress is ...</td>\n",
       "      <td>531</td>\n",
       "      <td>94</td>\n",
       "      <td>5.589474</td>\n",
       "      <td>16</td>\n",
       "      <td>2</td>\n",
       "      <td>0</td>\n",
       "      <td>0.185179</td>\n",
       "      <td>0.638690</td>\n",
       "    </tr>\n",
       "    <tr>\n",
       "      <th>17836</th>\n",
       "      <td>Very sheer Super flattering, a great length fo...</td>\n",
       "      <td>73</td>\n",
       "      <td>13</td>\n",
       "      <td>5.214286</td>\n",
       "      <td>6</td>\n",
       "      <td>2</td>\n",
       "      <td>0</td>\n",
       "      <td>0.283333</td>\n",
       "      <td>0.841667</td>\n",
       "    </tr>\n",
       "    <tr>\n",
       "      <th>9304</th>\n",
       "      <td>Staple cardigan I've been searching for the pe...</td>\n",
       "      <td>463</td>\n",
       "      <td>88</td>\n",
       "      <td>5.202247</td>\n",
       "      <td>10</td>\n",
       "      <td>1</td>\n",
       "      <td>0</td>\n",
       "      <td>0.219286</td>\n",
       "      <td>0.767619</td>\n",
       "    </tr>\n",
       "    <tr>\n",
       "      <th>4587</th>\n",
       "      <td>The sales girl added this to my room, it's so ...</td>\n",
       "      <td>79</td>\n",
       "      <td>17</td>\n",
       "      <td>4.388889</td>\n",
       "      <td>3</td>\n",
       "      <td>1</td>\n",
       "      <td>0</td>\n",
       "      <td>0.000000</td>\n",
       "      <td>0.000000</td>\n",
       "    </tr>\n",
       "    <tr>\n",
       "      <th>14858</th>\n",
       "      <td>I bought the delaney blazer in size 6 -- and i...</td>\n",
       "      <td>465</td>\n",
       "      <td>90</td>\n",
       "      <td>5.109890</td>\n",
       "      <td>16</td>\n",
       "      <td>1</td>\n",
       "      <td>1</td>\n",
       "      <td>0.299167</td>\n",
       "      <td>0.435000</td>\n",
       "    </tr>\n",
       "  </tbody>\n",
       "</table>\n",
       "</div>"
      ],
      "text/plain": [
       "                                                  Review  char_count  \\\n",
       "19566  Overall great dress, runs small This dress is ...         531   \n",
       "17836  Very sheer Super flattering, a great length fo...          73   \n",
       "9304   Staple cardigan I've been searching for the pe...         463   \n",
       "4587   The sales girl added this to my room, it's so ...          79   \n",
       "14858  I bought the delaney blazer in size 6 -- and i...         465   \n",
       "\n",
       "       word_count  word_density  punctuation_count  title_word_count  \\\n",
       "19566          94      5.589474                 16                 2   \n",
       "17836          13      5.214286                  6                 2   \n",
       "9304           88      5.202247                 10                 1   \n",
       "4587           17      4.388889                  3                 1   \n",
       "14858          90      5.109890                 16                 1   \n",
       "\n",
       "       upper_case_word_count  Polarity  Subjectivity  \n",
       "19566                      0  0.185179      0.638690  \n",
       "17836                      0  0.283333      0.841667  \n",
       "9304                       0  0.219286      0.767619  \n",
       "4587                       0  0.000000      0.000000  \n",
       "14858                      1  0.299167      0.435000  "
      ]
     },
     "execution_count": 110,
     "metadata": {},
     "output_type": "execute_result"
    }
   ],
   "source": [
    "X_test.head()"
   ]
  },
  {
   "cell_type": "code",
   "execution_count": 111,
   "id": "9650c1ec",
   "metadata": {},
   "outputs": [],
   "source": [
    "lr.fit(X_train.drop(['Review'],axis=1),y_train)\n",
    "pred=lr.predict(X_test.drop(['Review'],axis=1))"
   ]
  },
  {
   "cell_type": "code",
   "execution_count": 112,
   "id": "4e933235",
   "metadata": {},
   "outputs": [],
   "source": [
    "a=classification_report(y_test,pred)"
   ]
  },
  {
   "cell_type": "code",
   "execution_count": 113,
   "id": "c39edc0d",
   "metadata": {},
   "outputs": [
    {
     "name": "stdout",
     "output_type": "stream",
     "text": [
      "              precision    recall  f1-score   support\n",
      "\n",
      "           0       0.69      0.27      0.39      1271\n",
      "           1       0.82      0.96      0.89      4390\n",
      "\n",
      "    accuracy                           0.81      5661\n",
      "   macro avg       0.75      0.62      0.64      5661\n",
      "weighted avg       0.79      0.81      0.77      5661\n",
      "\n"
     ]
    }
   ],
   "source": [
    "print(a)"
   ]
  },
  {
   "cell_type": "code",
   "execution_count": 114,
   "id": "06b4bf3b",
   "metadata": {},
   "outputs": [
    {
     "data": {
      "text/html": [
       "<div>\n",
       "<style scoped>\n",
       "    .dataframe tbody tr th:only-of-type {\n",
       "        vertical-align: middle;\n",
       "    }\n",
       "\n",
       "    .dataframe tbody tr th {\n",
       "        vertical-align: top;\n",
       "    }\n",
       "\n",
       "    .dataframe thead th {\n",
       "        text-align: right;\n",
       "    }\n",
       "</style>\n",
       "<table border=\"1\" class=\"dataframe\">\n",
       "  <thead>\n",
       "    <tr style=\"text-align: right;\">\n",
       "      <th></th>\n",
       "      <th>0</th>\n",
       "      <th>1</th>\n",
       "    </tr>\n",
       "  </thead>\n",
       "  <tbody>\n",
       "    <tr>\n",
       "      <th>0</th>\n",
       "      <td>342</td>\n",
       "      <td>929</td>\n",
       "    </tr>\n",
       "    <tr>\n",
       "      <th>1</th>\n",
       "      <td>157</td>\n",
       "      <td>4233</td>\n",
       "    </tr>\n",
       "  </tbody>\n",
       "</table>\n",
       "</div>"
      ],
      "text/plain": [
       "     0     1\n",
       "0  342   929\n",
       "1  157  4233"
      ]
     },
     "execution_count": 114,
     "metadata": {},
     "output_type": "execute_result"
    }
   ],
   "source": [
    "pd.DataFrame(confusion_matrix(y_test,pred))"
   ]
  },
  {
   "cell_type": "code",
   "execution_count": 115,
   "id": "59d0f1f4",
   "metadata": {},
   "outputs": [],
   "source": [
    "#Experiment 3: Text pre-processing and wrangling\n",
    "#Using NLP BOW, ngrams, etc."
   ]
  },
  {
   "cell_type": "code",
   "execution_count": 117,
   "id": "640f4e62",
   "metadata": {},
   "outputs": [
    {
     "name": "stdout",
     "output_type": "stream",
     "text": [
      "Requirement already satisfied: contractions in c:\\users\\ameen\\anaconda3\\lib\\site-packages (0.1.72)\n",
      "Requirement already satisfied: textsearch>=0.0.21 in c:\\users\\ameen\\anaconda3\\lib\\site-packages (from contractions) (0.0.21)\n",
      "Requirement already satisfied: pyahocorasick in c:\\users\\ameen\\anaconda3\\lib\\site-packages (from textsearch>=0.0.21->contractions) (1.4.4)\n",
      "Requirement already satisfied: anyascii in c:\\users\\ameen\\anaconda3\\lib\\site-packages (from textsearch>=0.0.21->contractions) (0.3.1)\n"
     ]
    },
    {
     "name": "stderr",
     "output_type": "stream",
     "text": [
      "WARNING: You are using pip version 22.0.4; however, version 22.1.2 is available.\n",
      "You should consider upgrading via the 'c:\\users\\ameen\\anaconda3\\python.exe -m pip install --upgrade pip' command.\n"
     ]
    },
    {
     "name": "stdout",
     "output_type": "stream",
     "text": [
      "Requirement already satisfied: textsearch in c:\\users\\ameen\\anaconda3\\lib\\site-packages (0.0.21)\n",
      "Requirement already satisfied: anyascii in c:\\users\\ameen\\anaconda3\\lib\\site-packages (from textsearch) (0.3.1)\n",
      "Requirement already satisfied: pyahocorasick in c:\\users\\ameen\\anaconda3\\lib\\site-packages (from textsearch) (1.4.4)\n"
     ]
    },
    {
     "name": "stderr",
     "output_type": "stream",
     "text": [
      "WARNING: You are using pip version 22.0.4; however, version 22.1.2 is available.\n",
      "You should consider upgrading via the 'c:\\users\\ameen\\anaconda3\\python.exe -m pip install --upgrade pip' command.\n"
     ]
    },
    {
     "name": "stdout",
     "output_type": "stream",
     "text": [
      "Requirement already satisfied: tqdm in c:\\users\\ameen\\anaconda3\\lib\\site-packages (4.59.0)\n"
     ]
    },
    {
     "name": "stderr",
     "output_type": "stream",
     "text": [
      "WARNING: You are using pip version 22.0.4; however, version 22.1.2 is available.\n",
      "You should consider upgrading via the 'c:\\users\\ameen\\anaconda3\\python.exe -m pip install --upgrade pip' command.\n",
      "[nltk_data] Downloading package punkt to\n",
      "[nltk_data]     C:\\Users\\ameen\\AppData\\Roaming\\nltk_data...\n",
      "[nltk_data]   Package punkt is already up-to-date!\n",
      "[nltk_data] Downloading package stopwords to\n",
      "[nltk_data]     C:\\Users\\ameen\\AppData\\Roaming\\nltk_data...\n",
      "[nltk_data]   Package stopwords is already up-to-date!\n"
     ]
    },
    {
     "data": {
      "text/plain": [
       "True"
      ]
     },
     "execution_count": 117,
     "metadata": {},
     "output_type": "execute_result"
    }
   ],
   "source": [
    "!pip install contractions\n",
    "!pip install textsearch\n",
    "!pip install tqdm\n",
    "import nltk\n",
    "nltk.download('punkt')\n",
    "nltk.download('stopwords')"
   ]
  },
  {
   "cell_type": "code",
   "execution_count": 118,
   "id": "782d464b",
   "metadata": {},
   "outputs": [
    {
     "data": {
      "text/plain": [
       "'I did not like this t-shirt'"
      ]
     },
     "execution_count": 118,
     "metadata": {},
     "output_type": "execute_result"
    }
   ],
   "source": [
    "import contractions\n",
    "contractions.fix(\"I didn't like this t-shirt\")"
   ]
  },
  {
   "cell_type": "code",
   "execution_count": 122,
   "id": "b2d81e72",
   "metadata": {},
   "outputs": [],
   "source": [
    "import nltk\n",
    "import contractions\n",
    "import re\n",
    "\n",
    "#remove some stopwords to capture negation in n-grams if possible\n",
    "stop_words=nltk.corpus.stopwords.words('english')\n",
    "stop_words.remove('no')\n",
    "stop_words.remove('not')\n",
    "stop_words.remove('but')\n",
    "\n",
    "ps=nltk.porter.PorterStemmer()\n",
    "\n",
    "def simple_text_preprocessor(document):\n",
    "    #lower case\n",
    "    document=str(document).lower()\n",
    "    #expand contractions\n",
    "    document=contractions.fix(document)\n",
    "    #remove unneccessary characters\n",
    "    document = re.sub(r'[^a-zA-Z]',r' ',document)\n",
    "    document = re.sub(r'nbsp',r'',document)\n",
    "    document = re.sub(' +',' ',document)\n",
    "    #simple porter stemming\n",
    "    document = ' '.join([ps.stem(word) for word in document.split()])\n",
    "    #stopwords removal\n",
    "    document = ' '.join([word for word in document.split() if word not in stop_words])\n",
    "    \n",
    "    return document\n",
    "stp=np.vectorize(simple_text_preprocessor)"
   ]
  },
  {
   "cell_type": "code",
   "execution_count": 123,
   "id": "1086e282",
   "metadata": {},
   "outputs": [
    {
     "data": {
      "text/html": [
       "<div>\n",
       "<style scoped>\n",
       "    .dataframe tbody tr th:only-of-type {\n",
       "        vertical-align: middle;\n",
       "    }\n",
       "\n",
       "    .dataframe tbody tr th {\n",
       "        vertical-align: top;\n",
       "    }\n",
       "\n",
       "    .dataframe thead th {\n",
       "        text-align: right;\n",
       "    }\n",
       "</style>\n",
       "<table border=\"1\" class=\"dataframe\">\n",
       "  <thead>\n",
       "    <tr style=\"text-align: right;\">\n",
       "      <th></th>\n",
       "      <th>Review</th>\n",
       "      <th>char_count</th>\n",
       "      <th>word_count</th>\n",
       "      <th>word_density</th>\n",
       "      <th>punctuation_count</th>\n",
       "      <th>title_word_count</th>\n",
       "      <th>upper_case_word_count</th>\n",
       "      <th>Polarity</th>\n",
       "      <th>Subjectivity</th>\n",
       "      <th>Clean Review</th>\n",
       "    </tr>\n",
       "  </thead>\n",
       "  <tbody>\n",
       "    <tr>\n",
       "      <th>12896</th>\n",
       "      <td>Soooo soft! This is a delightfully soft and fl...</td>\n",
       "      <td>268</td>\n",
       "      <td>52</td>\n",
       "      <td>5.056604</td>\n",
       "      <td>8</td>\n",
       "      <td>2</td>\n",
       "      <td>0</td>\n",
       "      <td>0.170455</td>\n",
       "      <td>0.490909</td>\n",
       "      <td>soooo soft thi delight soft fluffi sweater mig...</td>\n",
       "    </tr>\n",
       "    <tr>\n",
       "      <th>13183</th>\n",
       "      <td>Had my eye on this, but dind't get I finally v...</td>\n",
       "      <td>399</td>\n",
       "      <td>84</td>\n",
       "      <td>4.694118</td>\n",
       "      <td>20</td>\n",
       "      <td>2</td>\n",
       "      <td>1</td>\n",
       "      <td>0.101944</td>\n",
       "      <td>0.719537</td>\n",
       "      <td>eye thi but dind get final visit store petit t...</td>\n",
       "    </tr>\n",
       "    <tr>\n",
       "      <th>1496</th>\n",
       "      <td>I wanted to like this... I wanted to like this...</td>\n",
       "      <td>525</td>\n",
       "      <td>104</td>\n",
       "      <td>5.000000</td>\n",
       "      <td>19</td>\n",
       "      <td>2</td>\n",
       "      <td>2</td>\n",
       "      <td>0.186538</td>\n",
       "      <td>0.458761</td>\n",
       "      <td>want like thi want like thi top badli badli fa...</td>\n",
       "    </tr>\n",
       "    <tr>\n",
       "      <th>5205</th>\n",
       "      <td>Beautiful blouse Bought this for my daughter i...</td>\n",
       "      <td>203</td>\n",
       "      <td>35</td>\n",
       "      <td>5.638889</td>\n",
       "      <td>10</td>\n",
       "      <td>2</td>\n",
       "      <td>0</td>\n",
       "      <td>0.625000</td>\n",
       "      <td>0.825000</td>\n",
       "      <td>beauti blous bought thi daughter law birthday ...</td>\n",
       "    </tr>\n",
       "    <tr>\n",
       "      <th>13366</th>\n",
       "      <td>Boxy. large. Boxy, unflattering, and large.\\n\\...</td>\n",
       "      <td>295</td>\n",
       "      <td>51</td>\n",
       "      <td>5.673077</td>\n",
       "      <td>22</td>\n",
       "      <td>2</td>\n",
       "      <td>0</td>\n",
       "      <td>0.329613</td>\n",
       "      <td>0.510268</td>\n",
       "      <td>boxi larg boxi unflatt larg curvi pound thi to...</td>\n",
       "    </tr>\n",
       "  </tbody>\n",
       "</table>\n",
       "</div>"
      ],
      "text/plain": [
       "                                                  Review  char_count  \\\n",
       "12896  Soooo soft! This is a delightfully soft and fl...         268   \n",
       "13183  Had my eye on this, but dind't get I finally v...         399   \n",
       "1496   I wanted to like this... I wanted to like this...         525   \n",
       "5205   Beautiful blouse Bought this for my daughter i...         203   \n",
       "13366  Boxy. large. Boxy, unflattering, and large.\\n\\...         295   \n",
       "\n",
       "       word_count  word_density  punctuation_count  title_word_count  \\\n",
       "12896          52      5.056604                  8                 2   \n",
       "13183          84      4.694118                 20                 2   \n",
       "1496          104      5.000000                 19                 2   \n",
       "5205           35      5.638889                 10                 2   \n",
       "13366          51      5.673077                 22                 2   \n",
       "\n",
       "       upper_case_word_count  Polarity  Subjectivity  \\\n",
       "12896                      0  0.170455      0.490909   \n",
       "13183                      1  0.101944      0.719537   \n",
       "1496                       2  0.186538      0.458761   \n",
       "5205                       0  0.625000      0.825000   \n",
       "13366                      0  0.329613      0.510268   \n",
       "\n",
       "                                            Clean Review  \n",
       "12896  soooo soft thi delight soft fluffi sweater mig...  \n",
       "13183  eye thi but dind get final visit store petit t...  \n",
       "1496   want like thi want like thi top badli badli fa...  \n",
       "5205   beauti blous bought thi daughter law birthday ...  \n",
       "13366  boxi larg boxi unflatt larg curvi pound thi to...  "
      ]
     },
     "execution_count": 123,
     "metadata": {},
     "output_type": "execute_result"
    }
   ],
   "source": [
    "X_train['Clean Review']=stp(X_train['Review'].values)\n",
    "X_test['Clean Review']=stp(X_test['Review'].values)\n",
    "\n",
    "X_train.head()"
   ]
  },
  {
   "cell_type": "code",
   "execution_count": null,
   "id": "c0d771ee",
   "metadata": {},
   "outputs": [],
   "source": []
  }
 ],
 "metadata": {
  "kernelspec": {
   "display_name": "Python 3",
   "language": "python",
   "name": "python3"
  },
  "language_info": {
   "codemirror_mode": {
    "name": "ipython",
    "version": 3
   },
   "file_extension": ".py",
   "mimetype": "text/x-python",
   "name": "python",
   "nbconvert_exporter": "python",
   "pygments_lexer": "ipython3",
   "version": "3.8.8"
  }
 },
 "nbformat": 4,
 "nbformat_minor": 5
}
